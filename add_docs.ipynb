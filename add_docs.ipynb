{
 "cells": [
  {
   "cell_type": "code",
   "id": "initial_id",
   "metadata": {
    "collapsed": true,
    "ExecuteTime": {
     "end_time": "2025-06-16T21:40:18.385053Z",
     "start_time": "2025-06-16T21:40:12.206654Z"
    }
   },
   "source": [
    "import json\n",
    "import pandas as pd\n",
    "from sentence_transformers import SentenceTransformer\n",
    "\n",
    "EMBEDDING_MODEL = 'all-MiniLM-L6-v2'\n",
    "\n",
    "embedding_model = SentenceTransformer(EMBEDDING_MODEL)"
   ],
   "outputs": [
    {
     "name": "stderr",
     "output_type": "stream",
     "text": [
      "C:\\Users\\tarun\\PyCharmProjects\\lara\\.venv\\Lib\\site-packages\\tqdm\\auto.py:21: TqdmWarning: IProgress not found. Please update jupyter and ipywidgets. See https://ipywidgets.readthedocs.io/en/stable/user_install.html\n",
      "  from .autonotebook import tqdm as notebook_tqdm\n"
     ]
    }
   ],
   "execution_count": 1
  },
  {
   "metadata": {},
   "cell_type": "markdown",
   "source": "Parquets file load",
   "id": "8afa9177d19f273f"
  },
  {
   "metadata": {
    "ExecuteTime": {
     "end_time": "2025-06-16T21:40:56.088360Z",
     "start_time": "2025-06-16T21:40:56.084851Z"
    }
   },
   "cell_type": "code",
   "source": [
    "parquet_file = \"rag_data\\\\raw_data\\\\0000.parquet\"\n",
    "output_file = \"rag_data\\\\raw_data\\\\0000.json\""
   ],
   "id": "dd7cd8d87a9df36",
   "outputs": [],
   "execution_count": 4
  },
  {
   "metadata": {
    "ExecuteTime": {
     "end_time": "2025-06-16T21:40:59.478842Z",
     "start_time": "2025-06-16T21:40:59.392765Z"
    }
   },
   "cell_type": "code",
   "source": "df = pd.read_parquet(parquet_file)",
   "id": "a422ebf638b4052",
   "outputs": [],
   "execution_count": 5
  },
  {
   "metadata": {
    "ExecuteTime": {
     "end_time": "2025-06-16T21:41:01.133767Z",
     "start_time": "2025-06-16T21:41:01.118741Z"
    }
   },
   "cell_type": "code",
   "source": "df.head()",
   "id": "fc74d087c13cfc65",
   "outputs": [
    {
     "data": {
      "text/plain": [
       "                                                text\n",
       "0                                              Venus\n",
       "1     ==============================================\n",
       "2                                                   \n",
       "3  This section aims to cover the *functions* tha...\n",
       "4                                                   "
      ],
      "text/html": [
       "<div>\n",
       "<style scoped>\n",
       "    .dataframe tbody tr th:only-of-type {\n",
       "        vertical-align: middle;\n",
       "    }\n",
       "\n",
       "    .dataframe tbody tr th {\n",
       "        vertical-align: top;\n",
       "    }\n",
       "\n",
       "    .dataframe thead th {\n",
       "        text-align: right;\n",
       "    }\n",
       "</style>\n",
       "<table border=\"1\" class=\"dataframe\">\n",
       "  <thead>\n",
       "    <tr style=\"text-align: right;\">\n",
       "      <th></th>\n",
       "      <th>text</th>\n",
       "    </tr>\n",
       "  </thead>\n",
       "  <tbody>\n",
       "    <tr>\n",
       "      <th>0</th>\n",
       "      <td>Venus</td>\n",
       "    </tr>\n",
       "    <tr>\n",
       "      <th>1</th>\n",
       "      <td>==============================================</td>\n",
       "    </tr>\n",
       "    <tr>\n",
       "      <th>2</th>\n",
       "      <td></td>\n",
       "    </tr>\n",
       "    <tr>\n",
       "      <th>3</th>\n",
       "      <td>This section aims to cover the *functions* tha...</td>\n",
       "    </tr>\n",
       "    <tr>\n",
       "      <th>4</th>\n",
       "      <td></td>\n",
       "    </tr>\n",
       "  </tbody>\n",
       "</table>\n",
       "</div>"
      ]
     },
     "execution_count": 6,
     "metadata": {},
     "output_type": "execute_result"
    }
   ],
   "execution_count": 6
  },
  {
   "metadata": {
    "ExecuteTime": {
     "end_time": "2025-06-16T21:41:05.294740Z",
     "start_time": "2025-06-16T21:41:03.769987Z"
    }
   },
   "cell_type": "code",
   "source": [
    "#### PROCESS DATA HERE ####\n",
    "document = df['text'].tolist()\n",
    "\n",
    "embeddings = embedding_model.encode(document, convert_to_tensor=False).tolist()"
   ],
   "id": "92f3b23059d7fb75",
   "outputs": [],
   "execution_count": 7
  },
  {
   "metadata": {
    "ExecuteTime": {
     "end_time": "2025-06-16T21:44:52.606218Z",
     "start_time": "2025-06-16T21:44:52.602322Z"
    }
   },
   "cell_type": "code",
   "source": [
    "try:\n",
    "    with open(output_file,'r',encoding='utf-8') as f:\n",
    "        existing_index = json.load(f)\n",
    "        if \"documents\" not in existing_index:\n",
    "            existing_index[\"documents\"] = []\n",
    "        if \"embeddings\" not in existing_index:\n",
    "            existing_index[\"embeddings\"] = []\n",
    "except FileNotFoundError:\n",
    "    existing_index = {\"documents\":[],\"embeddings\":[]}"
   ],
   "id": "9fc1dc2ad5db2dd1",
   "outputs": [],
   "execution_count": 8
  },
  {
   "metadata": {
    "ExecuteTime": {
     "end_time": "2025-06-16T21:44:57.177645Z",
     "start_time": "2025-06-16T21:44:57.174063Z"
    }
   },
   "cell_type": "code",
   "source": [
    "#### APPEND DOCS ETC ####\n",
    "\n",
    "existing_index[\"documents\"].extend(document)\n",
    "existing_index[\"embeddings\"].extend(embeddings)"
   ],
   "id": "64325118645298ae",
   "outputs": [],
   "execution_count": 9
  },
  {
   "metadata": {
    "ExecuteTime": {
     "end_time": "2025-06-16T21:45:03.088079Z",
     "start_time": "2025-06-16T21:45:03.011602Z"
    }
   },
   "cell_type": "code",
   "source": [
    "with open(output_file,'w',encoding='utf-8') as f:\n",
    "    json.dump(existing_index,f)\n",
    "\n",
    "print(f\"Index updated with len\")"
   ],
   "id": "411bff5d796f1b05",
   "outputs": [
    {
     "name": "stdout",
     "output_type": "stream",
     "text": [
      "Index updated with len\n"
     ]
    }
   ],
   "execution_count": 11
  },
  {
   "metadata": {
    "ExecuteTime": {
     "end_time": "2025-06-16T21:49:45.528276Z",
     "start_time": "2025-06-16T21:49:45.523913Z"
    }
   },
   "cell_type": "code",
   "source": [
    "def concat_files(file_1, file_2, file_3):\n",
    "    file_1 = json.load(open(file_1))\n",
    "    file_2 = json.load(open(file_2))\n",
    "    file_1[\"documents\"].extend(file_2[\"documents\"])\n",
    "    file_1[\"embeddings\"].extend(file_2[\"embeddings\"])\n",
    "    with open(file_3,'w',encoding='utf-8') as f:\n",
    "        json.dump(file_1,f)"
   ],
   "id": "53efde018d735154",
   "outputs": [],
   "execution_count": 16
  },
  {
   "metadata": {
    "ExecuteTime": {
     "end_time": "2025-06-16T21:49:47.818935Z",
     "start_time": "2025-06-16T21:49:47.689152Z"
    }
   },
   "cell_type": "code",
   "source": "concat_files(\"rag_data/raw_data/0000.json\",\"rag_data/hamilton.json\",\"rag_data/raw_data/hamilton2.json\")",
   "id": "61e96179238b30e7",
   "outputs": [],
   "execution_count": 17
  }
 ],
 "metadata": {
  "kernelspec": {
   "display_name": "Python 3",
   "language": "python",
   "name": "python3"
  },
  "language_info": {
   "codemirror_mode": {
    "name": "ipython",
    "version": 2
   },
   "file_extension": ".py",
   "mimetype": "text/x-python",
   "name": "python",
   "nbconvert_exporter": "python",
   "pygments_lexer": "ipython2",
   "version": "2.7.6"
  }
 },
 "nbformat": 4,
 "nbformat_minor": 5
}
