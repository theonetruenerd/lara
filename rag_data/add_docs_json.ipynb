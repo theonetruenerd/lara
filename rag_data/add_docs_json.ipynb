{
 "cells": [
  {
   "cell_type": "code",
   "id": "initial_id",
   "metadata": {
    "collapsed": true,
    "ExecuteTime": {
     "end_time": "2025-06-17T10:50:30.824274Z",
     "start_time": "2025-06-17T10:50:29.589536Z"
    }
   },
   "source": [
    "import json\n",
    "import pandas as pd\n",
    "from sentence_transformers import SentenceTransformer\n",
    "\n",
    "EMBEDDING_MODEL = 'all-MiniLM-L6-v2'\n",
    "embedder = SentenceTransformer(EMBEDDING_MODEL)"
   ],
   "outputs": [],
   "execution_count": 55
  },
  {
   "metadata": {
    "ExecuteTime": {
     "end_time": "2025-06-17T10:50:30.830668Z",
     "start_time": "2025-06-17T10:50:30.827791Z"
    }
   },
   "cell_type": "code",
   "source": [
    "json_input_file = \"raw_data/hsl_seq_daily_tools_docs.json\"\n",
    "json_output_file = \"raw_data/hsl_seq_daily_tools_docs_with_embeddings.json\"\n"
   ],
   "id": "e2064feac5afa9b8",
   "outputs": [],
   "execution_count": 56
  },
  {
   "metadata": {
    "ExecuteTime": {
     "end_time": "2025-06-17T10:50:30.883965Z",
     "start_time": "2025-06-17T10:50:30.862015Z"
    }
   },
   "cell_type": "code",
   "source": [
    "with open(json_input_file, 'r') as f:\n",
    "    json_data = json.load(f)"
   ],
   "id": "8d1f1ff4538322a4",
   "outputs": [],
   "execution_count": 57
  },
  {
   "metadata": {
    "ExecuteTime": {
     "end_time": "2025-06-17T10:50:30.908202Z",
     "start_time": "2025-06-17T10:50:30.894976Z"
    }
   },
   "cell_type": "code",
   "source": "json_data[0]",
   "id": "8486732149d9b1e",
   "outputs": [
    {
     "data": {
      "text/plain": [
       "{'type': 'library',\n",
       " 'metadata': {'title': 'HSL_SeqDailyTools',\n",
       "  'description': 'The HSL_SeqDailyTools library adds four functions aimed at making some parts of sequence handling slightly easier.',\n",
       "  'tags': ['library'],\n",
       "  'documentation_url': 'https://venuslibrarydocumentation.readthedocs.io/en/latest/HSL_SeqDailyTools.html'},\n",
       " 'details': {'library': {'name': 'HSL_SeqDailyTools',\n",
       "   'url': 'https://github.com/theonetruenerd/VenusPackages/blob/main/HSL_SeqDailyTools.pkg',\n",
       "   'description': 'The HSL_SeqDailyTools library adds four functions aimed at making some parts of sequence handling slightly easier.',\n",
       "   'functions': ['CopyPlatePattern96ToTipRack',\n",
       "    'CopyPlatePatternToPlate',\n",
       "    'GetNumberOfPositionsLeft',\n",
       "    'SeqEasyEdit']}}}"
      ]
     },
     "execution_count": 58,
     "metadata": {},
     "output_type": "execute_result"
    }
   ],
   "execution_count": 58
  },
  {
   "metadata": {
    "ExecuteTime": {
     "end_time": "2025-06-17T10:50:30.926924Z",
     "start_time": "2025-06-17T10:50:30.922565Z"
    }
   },
   "cell_type": "code",
   "source": [
    "def prepare_embedding_input(entry):\n",
    "    # Combine fields for embedding input\n",
    "    input_text = f\"\"\"\n",
    "    Title: {entry['metadata']['title']}\n",
    "    Description: {entry['metadata']['description']}\n",
    "    Tags: {', '.join(entry['metadata']['tags']) if 'tags' in entry['metadata'] else ''}\n",
    "    Details: {entry['details']['function']['description'] if 'function' in entry['details'] else ''}\n",
    "    \"\"\"\n",
    "    return input_text.strip()\n",
    "\n",
    "def generate_embeddings_with_transformers(text):\n",
    "    embeddings = embedder.encode(text, convert_to_tensor=False)\n",
    "    return [float(value) for value in embeddings]\n",
    "\n"
   ],
   "id": "350487bbea849486",
   "outputs": [],
   "execution_count": 59
  },
  {
   "metadata": {
    "ExecuteTime": {
     "end_time": "2025-06-17T10:50:30.950952Z",
     "start_time": "2025-06-17T10:50:30.946952Z"
    }
   },
   "cell_type": "code",
   "source": [
    "try:\n",
    "    with open(json_output_file, 'r') as f:\n",
    "        json_data_with_embeddings = json.load(f)\n",
    "        if \"metadata\" not in json_data_with_embeddings:\n",
    "            json_data_with_embeddings[\"metadata\"] = []\n",
    "        if \"embeddings\" not in json_data_with_embeddings:\n",
    "            json_data_with_embeddings[\"embeddings\"] = []\n",
    "except FileNotFoundError:\n",
    "    json_data_with_embeddings = {\"metadata\": [], \"embeddings\": []}"
   ],
   "id": "fc88fd1aa05a0cce",
   "outputs": [],
   "execution_count": 60
  },
  {
   "metadata": {
    "ExecuteTime": {
     "end_time": "2025-06-17T10:50:31.182378Z",
     "start_time": "2025-06-17T10:50:30.967866Z"
    }
   },
   "cell_type": "code",
   "source": [
    "output_data = []\n",
    "\n",
    "for entry in json_data:\n",
    "    input_text = prepare_embedding_input(entry)\n",
    "    embeddings = generate_embeddings_with_transformers(input_text)\n",
    "    data_entry = {\n",
    "        \"id\": entry[\"metadata\"].get(\"title\", \"unknown_id\"),  # Use title or provide fallback value\n",
    "        \"metadata\": entry[\"metadata\"],  # Copy all metadata\n",
    "        \"embedding\": list(embeddings)  # Convert embedding array to list for JSON serialization\n",
    "    }\n",
    "    output_data.append(data_entry)\n",
    "\n"
   ],
   "id": "15265a83e5225350",
   "outputs": [],
   "execution_count": 61
  },
  {
   "metadata": {
    "ExecuteTime": {
     "end_time": "2025-06-17T10:50:31.197498Z",
     "start_time": "2025-06-17T10:50:31.192008Z"
    }
   },
   "cell_type": "code",
   "source": [
    "# Save the properly structured JSON\n",
    "with open(json_output_file, 'w', encoding='utf-8') as f:\n",
    "    json.dump(output_data, f, indent=4)\n",
    "\n",
    "print(f\"Embeddings saved to {json_output_file}\")"
   ],
   "id": "610e781cf43e753a",
   "outputs": [
    {
     "name": "stdout",
     "output_type": "stream",
     "text": [
      "Embeddings saved to raw_data/hsl_seq_daily_tools_docs_with_embeddings.json\n"
     ]
    }
   ],
   "execution_count": 62
  },
  {
   "metadata": {
    "ExecuteTime": {
     "end_time": "2025-06-17T10:50:31.210105Z",
     "start_time": "2025-06-17T10:50:31.206753Z"
    }
   },
   "cell_type": "code",
   "source": "",
   "id": "42dcbcb7d373397",
   "outputs": [],
   "execution_count": null
  }
 ],
 "metadata": {
  "kernelspec": {
   "display_name": "Python 3",
   "language": "python",
   "name": "python3"
  },
  "language_info": {
   "codemirror_mode": {
    "name": "ipython",
    "version": 2
   },
   "file_extension": ".py",
   "mimetype": "text/x-python",
   "name": "python",
   "nbconvert_exporter": "python",
   "pygments_lexer": "ipython2",
   "version": "2.7.6"
  }
 },
 "nbformat": 4,
 "nbformat_minor": 5
}
