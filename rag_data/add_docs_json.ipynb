{
 "cells": [
  {
   "cell_type": "code",
   "id": "initial_id",
   "metadata": {
    "collapsed": true,
    "ExecuteTime": {
     "end_time": "2025-06-17T13:22:00.893603Z",
     "start_time": "2025-06-17T13:21:59.537812Z"
    }
   },
   "source": [
    "import json\n",
    "from sentence_transformers import SentenceTransformer\n",
    "\n",
    "EMBEDDING_MODEL = 'all-MiniLM-L6-v2'\n",
    "embedder = SentenceTransformer(EMBEDDING_MODEL)"
   ],
   "outputs": [],
   "execution_count": 182
  },
  {
   "metadata": {
    "ExecuteTime": {
     "end_time": "2025-06-17T13:22:00.908926Z",
     "start_time": "2025-06-17T13:22:00.905254Z"
    }
   },
   "cell_type": "code",
   "source": [
    "json_input_file = \"raw_data/reformatted_errors.json\"\n",
    "json_output_file = \"hamilton_processed.json\""
   ],
   "id": "e2064feac5afa9b8",
   "outputs": [],
   "execution_count": 183
  },
  {
   "metadata": {
    "ExecuteTime": {
     "end_time": "2025-06-17T13:22:00.929631Z",
     "start_time": "2025-06-17T13:22:00.919317Z"
    }
   },
   "cell_type": "code",
   "source": [
    "with open(json_input_file, 'r') as f:\n",
    "    json_data = json.load(f)"
   ],
   "id": "8d1f1ff4538322a4",
   "outputs": [],
   "execution_count": 184
  },
  {
   "metadata": {
    "ExecuteTime": {
     "end_time": "2025-06-17T13:22:00.943295Z",
     "start_time": "2025-06-17T13:22:00.937280Z"
    }
   },
   "cell_type": "code",
   "source": "json_data[0]",
   "id": "8486732149d9b1e",
   "outputs": [
    {
     "data": {
      "text/plain": [
       "{'type': 'error_handling',\n",
       " 'metadata': {'title': 'Error Code 0xa0220001: No memory',\n",
       "  'description': 'Details about the Venus error code 0xa0220001 (No memory).',\n",
       "  'tags': ['runtime_errors', 'Venus', 'error_handling', '0xa0220001'],\n",
       "  'documentation_url': 'https://venuslibrarydocumentation.readthedocs.io/en/latest/RuntimeErrors.html#runtime-errors'},\n",
       " 'details': {'error_handling': [{'error_code': '0xa0220001',\n",
       "    'error_title': 'No memory',\n",
       "    'description': 'The system cannot allocate or access enough memory or disk space for the given operation.',\n",
       "    'user_action': \"Close other RAM-intensive programs, increase Venus's allocated memory, or assign higher CPU priority in Task Manager.\",\n",
       "    'developer_action': \"Optimize the method's memory usage and review memory allocation in the program.\"}]}}"
      ]
     },
     "execution_count": 185,
     "metadata": {},
     "output_type": "execute_result"
    }
   ],
   "execution_count": 185
  },
  {
   "metadata": {
    "ExecuteTime": {
     "end_time": "2025-06-17T13:22:00.957539Z",
     "start_time": "2025-06-17T13:22:00.954157Z"
    }
   },
   "cell_type": "code",
   "source": [
    "def prepare_embedding_input(entry):\n",
    "    # Combine fields for embedding input\n",
    "    input_text = f\"\"\"\n",
    "    Title: {entry['metadata']['title']}\n",
    "    Description: {entry['metadata']['description']}\n",
    "    Tags: {', '.join(entry['metadata']['tags']) if 'tags' in entry['metadata'] else ''}\n",
    "    Details: {entry['details']['function']['description'] if 'function' in entry['details'] else ''}\n",
    "    \"\"\"\n",
    "    return input_text.strip()\n",
    "\n",
    "def generate_embeddings_with_transformers(text):\n",
    "    embeddings = embedder.encode(text, convert_to_tensor=False)\n",
    "    return [float(value) for value in embeddings]\n",
    "\n"
   ],
   "id": "350487bbea849486",
   "outputs": [],
   "execution_count": 186
  },
  {
   "metadata": {
    "ExecuteTime": {
     "end_time": "2025-06-17T13:22:00.990709Z",
     "start_time": "2025-06-17T13:22:00.973340Z"
    }
   },
   "cell_type": "code",
   "source": [
    "try:\n",
    "    with open(json_output_file, 'r') as f:\n",
    "        json_data_with_embeddings = json.load(f)\n",
    "except FileNotFoundError:\n",
    "    json_data_with_embeddings = {\"metadata\": [], \"embeddings\": []}"
   ],
   "id": "fc88fd1aa05a0cce",
   "outputs": [],
   "execution_count": 187
  },
  {
   "metadata": {
    "ExecuteTime": {
     "end_time": "2025-06-17T13:22:01.002596Z",
     "start_time": "2025-06-17T13:22:00.997507Z"
    }
   },
   "cell_type": "code",
   "source": [
    "# Create a dictionary from existing data for quick lookup based on `id`\n",
    "existing_ids = {entry['id']: entry for entry in json_data_with_embeddings}\n",
    "print(f\"Existing entries: {len(existing_ids)}\")\n",
    "\n",
    "for entry in json_data:\n",
    "    input_text = prepare_embedding_input(entry)\n",
    "    entry_id = entry[\"metadata\"].get(\"title\", \"unknown_id\")  # Use title or provide fallback value\n",
    "\n",
    "    # Check if the current entry is already in the existing dataset\n",
    "    if entry_id in existing_ids:\n",
    "        print(f\"Entry {entry_id} already exists in the dataset.\")\n",
    "        # If the entry exists, you can optionally update it (e.g., refresh metadata or embeddings)\n",
    "        continue  # Skip if no updating is required; remove this line to allow updates\n",
    "    else:\n",
    "        # Create a new entry and add it to `json_data_with_embeddings`\n",
    "        embeddings = generate_embeddings_with_transformers(input_text)\n",
    "        data_entry = {\n",
    "            \"id\": entry_id,\n",
    "            \"metadata\": entry[\"metadata\"],  # Copy all metadata\n",
    "            \"embedding\": list(embeddings)  # Convert embedding array to list for JSON serialization\n",
    "        }\n",
    "        json_data_with_embeddings.append(data_entry)\n",
    "\n",
    "# Save the updated data\n",
    "output_data = json_data_with_embeddings"
   ],
   "id": "15265a83e5225350",
   "outputs": [
    {
     "name": "stdout",
     "output_type": "stream",
     "text": [
      "Existing entries: 71\n",
      "Entry Error Code 0xa0220001: No memory already exists in the dataset.\n",
      "Entry Error Code 0xa1230002: Inserting identifier failed already exists in the dataset.\n",
      "Entry Error Code 0xa1230003: Identifier not found already exists in the dataset.\n",
      "Entry Error Code 0xa2230004: L-value not a number already exists in the dataset.\n",
      "Entry Error Code 0xa2230005: R-value not a number already exists in the dataset.\n",
      "Entry Error Code 0xa1230006: Not an identifier already exists in the dataset.\n",
      "Entry Error Code 0xa1220007: Unrecognized token already exists in the dataset.\n",
      "Entry Error Code 0xa1230008: R-value not bound already exists in the dataset.\n",
      "Entry Error Code 0xa1230009: Bad number already exists in the dataset.\n",
      "Entry Error Code 0xa123000a: Bad tree already exists in the dataset.\n",
      "Entry Error Code 0xa123000b: Invalid entry already exists in the dataset.\n",
      "Entry Error Code 0xa122000c: Function identifier is protected already exists in the dataset.\n",
      "Entry Error Code 0xa223000d: Underspecified function parameters already exists in the dataset.\n",
      "Entry Error Code 0xa2230037: Overspecified function parameters already exists in the dataset.\n",
      "Entry Error Code 0xa123000e: Setting value failed already exists in the dataset.\n",
      "Entry Error Code 0xa123000f: Function identifier not found already exists in the dataset.\n",
      "Entry Error Code 0xa1230010: Bindings not found already exists in the dataset.\n",
      "Entry Error Code 0xa1230011: Temporary variable not found already exists in the dataset.\n",
      "Entry Error Code 0xa1230012: Unknown function type already exists in the dataset.\n",
      "Entry Error Code 0xa2230013: Unable to find file already exists in the dataset.\n",
      "Entry Error Code 0xa1230014: Type mismatch already exists in the dataset.\n",
      "Entry Error Code 0xa2230015: Bad L-value already exists in the dataset.\n",
      "Entry Error Code 0xa2230016: Bad R-value already exists in the dataset.\n",
      "Entry Error Code 0xa2220017: Unrecognized type already exists in the dataset.\n",
      "Entry Error Code 0xa1230018: Bad memory type already exists in the dataset.\n",
      "Entry Error Code 0xa1230019: Array reference out of bounds already exists in the dataset.\n",
      "Entry Error Code 0xa123001a: Bad array identifier type already exists in the dataset.\n",
      "Entry Error Code 0xa123001b: Tag insert failed already exists in the dataset.\n",
      "Entry Error Code 0xa123001c: Dynamic memory identifier not bound already exists in the dataset.\n",
      "Entry Error Code 0xa123001d: Tag identifier not bound already exists in the dataset.\n",
      "Entry Error Code 0xa123001e: Structure reference out of bounds already exists in the dataset.\n",
      "Entry Error Code 0xa123001f: Bad tag identifier type already exists in the dataset.\n",
      "Entry Error Code 0xa1230020: L-value is not a structure identifier already exists in the dataset.\n",
      "Entry Error Code 0xa1230021: L-value is not an array identifier already exists in the dataset.\n",
      "Entry Error Code 0xa1230022: Failed to lookup tag identifier in the tag table already exists in the dataset.\n",
      "Entry Error Code 0xa1230023: Signal break already exists in the dataset.\n",
      "Entry Error Code 0xa1230024: Copy out of bound already exists in the dataset.\n",
      "Entry Error Code 0xa1230025: Signal return already exists in the dataset.\n",
      "Entry Error Code 0xa2230026: Array size is not an integer already exists in the dataset.\n",
      "Entry Error Code 0xa1230027: Failed to copy tag table already exists in the dataset.\n",
      "Entry Error Code 0xa1230029: Function has not been defined already exists in the dataset.\n",
      "Entry Error Code 0xa123002a: Unable to enter nesting level already exists in the dataset.\n",
      "Entry Error Code 0xa123002b: Unable to exit nesting level already exists in the dataset.\n",
      "Entry Error Code 0xa122002c: No context already exists in the dataset.\n",
      "Entry Error Code 0xa123002d: Failed to read file already exists in the dataset.\n",
      "Entry Error Code 0xa123002e: Failed to create timer already exists in the dataset.\n",
      "Entry Error Code 0xa123002f: Failed to set timer already exists in the dataset.\n",
      "Entry Error Code 0xa1230030: Failed to wait timer already exists in the dataset.\n",
      "Entry Error Code 0xa1230031: Failed to create event already exists in the dataset.\n",
      "Entry Error Code 0xa1230032: Failed to set event already exists in the dataset.\n",
      "Entry Error Code 0xa1230033: Failed to wait event already exists in the dataset.\n",
      "Entry Error Code 0xa1230034: Bad argument already exists in the dataset.\n",
      "Entry Error Code 0xa2230035: Syntax error already exists in the dataset.\n",
      "Entry Error Code 0xa2230036: Integer divide by zero already exists in the dataset.\n",
      "Entry Error Code 0xa2230038: Returning address of local variable or temporary already exists in the dataset.\n",
      "Entry Error Code 0xa2230039: Library requires installer already exists in the dataset.\n",
      "Entry Error Code 0xa223003a: Unable to find file already exists in the dataset.\n",
      "Entry Error Code 0xa223003b: File not updatable already exists in the dataset.\n",
      "Entry Error Code 0xa223003c: Recursive call already exists in the dataset.\n",
      "Entry Error Code 0xa223003d: Failed to wait for thread(s) already exists in the dataset.\n",
      "Entry Error Code 0xa223003e: Time-out interval elapsed already exists in the dataset.\n",
      "Entry Error Code 0xa2220044: Automation type not supported already exists in the dataset.\n",
      "Entry Error Code 0xa1230046: Bad argument parameter already exists in the dataset.\n",
      "Entry Error Code 0xa123004d: Sequence property not found already exists in the dataset.\n",
      "Entry Error Code 0xa123004e: Int64 not supported already exists in the dataset.\n"
     ]
    }
   ],
   "execution_count": 188
  },
  {
   "metadata": {
    "ExecuteTime": {
     "end_time": "2025-06-17T13:22:01.124024Z",
     "start_time": "2025-06-17T13:22:01.017789Z"
    }
   },
   "cell_type": "code",
   "source": [
    "with open(json_output_file, 'w') as f:\n",
    "    json.dump(output_data, f, indent=4)"
   ],
   "id": "42dcbcb7d373397",
   "outputs": [],
   "execution_count": 189
  }
 ],
 "metadata": {
  "kernelspec": {
   "display_name": "Python 3",
   "language": "python",
   "name": "python3"
  },
  "language_info": {
   "codemirror_mode": {
    "name": "ipython",
    "version": 2
   },
   "file_extension": ".py",
   "mimetype": "text/x-python",
   "name": "python",
   "nbconvert_exporter": "python",
   "pygments_lexer": "ipython2",
   "version": "2.7.6"
  }
 },
 "nbformat": 4,
 "nbformat_minor": 5
}
